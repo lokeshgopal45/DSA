{
 "cells": [
  {
   "cell_type": "code",
   "execution_count": 1,
   "id": "2d679fb3",
   "metadata": {},
   "outputs": [],
   "source": [
    "s = \"tree\""
   ]
  },
  {
   "cell_type": "code",
   "execution_count": null,
   "id": "002b14df",
   "metadata": {},
   "outputs": [
    {
     "data": {
      "text/plain": [
       "{'t': 1, 'r': 1, 'e': 2}"
      ]
     },
     "execution_count": 2,
     "metadata": {},
     "output_type": "execute_result"
    }
   ],
   "source": [
    "# from scracth \n",
    "\n",
    "hash_map = {}\n",
    "for i in s:\n",
    "    if i not in hash_map:\n",
    "        hash_map[i]=1\n",
    "    else:\n",
    "        hash_map[i]+=1\n",
    "\n",
    "\n",
    "sorted_hash_map = sorted(hash_map.items(), key=lambda x: x[1],reverse=True)\n",
    "\"\".join([i[0]*i[1] for i in sorted_hash_map])"
   ]
  },
  {
   "cell_type": "code",
   "execution_count": 19,
   "id": "481ac01d",
   "metadata": {},
   "outputs": [
    {
     "data": {
      "text/plain": [
       "'eetr'"
      ]
     },
     "execution_count": 19,
     "metadata": {},
     "output_type": "execute_result"
    }
   ],
   "source": [
    "\"\".join([i[0]*i[1] for i in sorted_hash_map])"
   ]
  },
  {
   "cell_type": "code",
   "execution_count": null,
   "id": "ad3098b5",
   "metadata": {},
   "outputs": [],
   "source": []
  }
 ],
 "metadata": {
  "kernelspec": {
   "display_name": "env",
   "language": "python",
   "name": "python3"
  },
  "language_info": {
   "codemirror_mode": {
    "name": "ipython",
    "version": 3
   },
   "file_extension": ".py",
   "mimetype": "text/x-python",
   "name": "python",
   "nbconvert_exporter": "python",
   "pygments_lexer": "ipython3",
   "version": "3.10.0"
  }
 },
 "nbformat": 4,
 "nbformat_minor": 5
}
