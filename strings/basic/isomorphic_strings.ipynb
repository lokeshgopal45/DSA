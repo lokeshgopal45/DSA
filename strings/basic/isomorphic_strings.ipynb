{
 "cells": [
  {
   "cell_type": "markdown",
   "id": "794a5ef8",
   "metadata": {},
   "source": [
    "Problem - [Isomorphic Strings - LeetCode](https://leetcode.com/problems/isomorphic-strings/description/)\n",
    "\n",
    "**Input** : s = \"egg\" , t = \"add\" | **Output** : true\n",
    "\n",
    "**Explanation** : \n",
    "- The 'e' in string s can be replaced with 'a' of string t.\n",
    "- The 'g' in string s can be replaced with 'd' of t.\n",
    "- Hence all characters in s can be replaced to get t."
   ]
  },
  {
   "cell_type": "markdown",
   "id": "e45606d2",
   "metadata": {},
   "source": [
    "```markdown\n",
    "------------------------------------------------------------------------------------------------\n",
    "```"
   ]
  },
  {
   "cell_type": "markdown",
   "id": "9683d80a",
   "metadata": {},
   "source": [
    "- 1. My Approach \n",
    "\n",
    "Edge cases are failing "
   ]
  },
  {
   "cell_type": "code",
   "execution_count": 86,
   "id": "eba34102",
   "metadata": {},
   "outputs": [],
   "source": [
    "class Solution:\n",
    "    def isIsomorphic(self, s: str, t: str) -> bool:\n",
    "        \"\"\"\n",
    "        Determines if two strings are isomorphic.\n",
    "        Two strings are isomorphic if characters in s can be replaced to get t.\n",
    "        \n",
    "        Args:\n",
    "            s (str): First string\n",
    "            t (str): Second string\n",
    "            \n",
    "        Returns:\n",
    "            bool: True if strings are isomorphic, False otherwise\n",
    "            \n",
    "        Example:\n",
    "            s = \"egg\", t = \"add\" -> True\n",
    "            s = \"foo\", t = \"bar\" -> False\n",
    "        \"\"\"\n",
    "        def frequency(s):\n",
    "            # Create dictionary to store character frequencies\n",
    "            d_s = {}\n",
    "            # Count occurrences of each character\n",
    "            for i in s:\n",
    "                if i not in d_s:\n",
    "                    d_s[i] = 1\n",
    "                else:\n",
    "                    d_s[i]+=1\n",
    "            return d_s\n",
    "        \n",
    "        # Compare frequency patterns of both strings\n",
    "        return list(frequency(s).values())==list(frequency(t).values())"
   ]
  },
  {
   "cell_type": "code",
   "execution_count": 88,
   "id": "b2e624ee",
   "metadata": {},
   "outputs": [
    {
     "data": {
      "text/plain": [
       "True"
      ]
     },
     "execution_count": 88,
     "metadata": {},
     "output_type": "execute_result"
    }
   ],
   "source": [
    "s,t = \"egg\",\"add\"\n",
    "\n",
    "s1 = Solution()\n",
    "s1.isIsomorphic(s,t)"
   ]
  },
  {
   "cell_type": "markdown",
   "id": "dea62b47",
   "metadata": {},
   "source": [
    "- 2. Striver approach"
   ]
  },
  {
   "cell_type": "code",
   "execution_count": 93,
   "id": "5c63b26b",
   "metadata": {},
   "outputs": [
    {
     "name": "stdout",
     "output_type": "stream",
     "text": [
      "Strings are not isomorphic.\n"
     ]
    }
   ],
   "source": [
    "class Solution:\n",
    "    def isomorphicString(self, s, t):\n",
    "        # Arrays to store the last seen positions of characters in s and t\n",
    "        m1, m2 = [0] * 256, [0] * 256\n",
    "        \n",
    "        # Length of the string\n",
    "        n = len(s)\n",
    "        \n",
    "        # Iterate through each character in the strings\n",
    "        for i in range(n):\n",
    "            # If the last seen positions of the current characters don't match, return false\n",
    "            if m1[ord(s[i])] != m2[ord(t[i])]:\n",
    "                return False\n",
    "            \n",
    "            # Update the last seen positions\n",
    "            m1[ord(s[i])] = i + 1\n",
    "            m2[ord(t[i])] = i + 1\n",
    "        \n",
    "        # If all characters match, return true\n",
    "        return True\n",
    "\n",
    "# Main method for testing\n",
    "if __name__ == \"__main__\":\n",
    "    solution = Solution()\n",
    "    s = \"foo\"\n",
    "    t = \"bar\"\n",
    "    if solution.isomorphicString(s, t):\n",
    "        print(\"Strings are isomorphic.\")\n",
    "    else:\n",
    "        print(\"Strings are not isomorphic.\")\n"
   ]
  },
  {
   "cell_type": "markdown",
   "id": "83a82431",
   "metadata": {},
   "source": [
    "![](https://leetcode.com/problems/isomorphic-strings/description/)"
   ]
  }
 ],
 "metadata": {
  "kernelspec": {
   "display_name": "env",
   "language": "python",
   "name": "python3"
  },
  "language_info": {
   "codemirror_mode": {
    "name": "ipython",
    "version": 3
   },
   "file_extension": ".py",
   "mimetype": "text/x-python",
   "name": "python",
   "nbconvert_exporter": "python",
   "pygments_lexer": "ipython3",
   "version": "3.10.0"
  }
 },
 "nbformat": 4,
 "nbformat_minor": 5
}
