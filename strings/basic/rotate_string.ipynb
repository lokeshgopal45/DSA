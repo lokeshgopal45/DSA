{
 "cells": [
  {
   "cell_type": "markdown",
   "id": "3528b5d6",
   "metadata": {},
   "source": [
    "[](https://leetcode.com/problems/rotate-string/description/)"
   ]
  },
  {
   "cell_type": "markdown",
   "id": "0a22d63d",
   "metadata": {},
   "source": [
    "Leetcode Problem : https://leetcode.com/problems/rotate-string/description/"
   ]
  },
  {
   "cell_type": "markdown",
   "id": "f7087897",
   "metadata": {},
   "source": [
    "- 1st Approach "
   ]
  },
  {
   "cell_type": "code",
   "execution_count": 55,
   "id": "22116ffc",
   "metadata": {},
   "outputs": [
    {
     "data": {
      "text/plain": [
       "False"
      ]
     },
     "execution_count": 55,
     "metadata": {},
     "output_type": "execute_result"
    }
   ],
   "source": [
    "# 1st approach I would say Brutforce \n",
    "def rotate_string_bf(s,goal):\n",
    "    for i in range(len(s)):\n",
    "        if s[i:]+s[:i]==goal:\n",
    "            return True\n",
    "            break\n",
    "    else:\n",
    "        return False\n",
    "rotate_string_bf(s,goal)"
   ]
  },
  {
   "cell_type": "markdown",
   "id": "5a9d6764",
   "metadata": {},
   "source": [
    "**Time Complexity** : O(n) <br>\n",
    "**Space Complexity** : O(1)"
   ]
  },
  {
   "cell_type": "code",
   "execution_count": 56,
   "id": "5e7982a1",
   "metadata": {},
   "outputs": [
    {
     "data": {
      "text/plain": [
       "False"
      ]
     },
     "execution_count": 56,
     "metadata": {},
     "output_type": "execute_result"
    }
   ],
   "source": [
    "s = \"abcde\"\n",
    "goal = \"abced\"\n",
    "rotate_string_bf(s,goal)"
   ]
  },
  {
   "cell_type": "code",
   "execution_count": 57,
   "id": "a7f1d5da",
   "metadata": {},
   "outputs": [
    {
     "data": {
      "text/plain": [
       "True"
      ]
     },
     "execution_count": 57,
     "metadata": {},
     "output_type": "execute_result"
    }
   ],
   "source": [
    "s = \"abcde\"\n",
    "goal = \"cdeab\"\n",
    "rotate_string_bf(s,goal)"
   ]
  },
  {
   "cell_type": "markdown",
   "id": "f263b314",
   "metadata": {},
   "source": [
    "- 2nd Approach - Failing Testcases"
   ]
  },
  {
   "cell_type": "code",
   "execution_count": 65,
   "id": "911d0e10",
   "metadata": {},
   "outputs": [
    {
     "data": {
      "text/plain": [
       "('abcde', 'cdea')"
      ]
     },
     "execution_count": 65,
     "metadata": {},
     "output_type": "execute_result"
    }
   ],
   "source": [
    "s,goal"
   ]
  },
  {
   "cell_type": "code",
   "execution_count": 67,
   "id": "5fc2cc56",
   "metadata": {},
   "outputs": [
    {
     "data": {
      "text/plain": [
       "'abcdeabcde'"
      ]
     },
     "execution_count": 67,
     "metadata": {},
     "output_type": "execute_result"
    }
   ],
   "source": [
    "new_str = s*2\n",
    "new_str"
   ]
  },
  {
   "cell_type": "code",
   "execution_count": 74,
   "id": "7f8ec80f",
   "metadata": {},
   "outputs": [
    {
     "data": {
      "text/plain": [
       "'abcde'"
      ]
     },
     "execution_count": 74,
     "metadata": {},
     "output_type": "execute_result"
    }
   ],
   "source": [
    "s"
   ]
  },
  {
   "cell_type": "code",
   "execution_count": 75,
   "id": "39c287c6",
   "metadata": {},
   "outputs": [
    {
     "data": {
      "text/plain": [
       "'cdea'"
      ]
     },
     "execution_count": 75,
     "metadata": {},
     "output_type": "execute_result"
    }
   ],
   "source": [
    "goal"
   ]
  },
  {
   "cell_type": "code",
   "execution_count": null,
   "id": "cb970cbc",
   "metadata": {},
   "outputs": [
    {
     "data": {
      "text/plain": [
       "'abcde'"
      ]
     },
     "execution_count": 78,
     "metadata": {},
     "output_type": "execute_result"
    }
   ],
   "source": []
  },
  {
   "cell_type": "code",
   "execution_count": 77,
   "id": "d43b1dd1",
   "metadata": {},
   "outputs": [
    {
     "data": {
      "text/plain": [
       "-1"
      ]
     },
     "execution_count": 77,
     "metadata": {},
     "output_type": "execute_result"
    }
   ],
   "source": [
    "s.find(goal)"
   ]
  },
  {
   "cell_type": "code",
   "execution_count": null,
   "id": "fd40f229",
   "metadata": {},
   "outputs": [
    {
     "data": {
      "text/plain": [
       "'cdea'"
      ]
     },
     "execution_count": 73,
     "metadata": {},
     "output_type": "execute_result"
    }
   ],
   "source": [
    "if new_str[new_str.index(goal[0]):new_str.index(goal[0])+len(goal)] == goal"
   ]
  },
  {
   "cell_type": "code",
   "execution_count": 72,
   "id": "3a0c3bf4",
   "metadata": {},
   "outputs": [
    {
     "data": {
      "text/plain": [
       "4"
      ]
     },
     "execution_count": 72,
     "metadata": {},
     "output_type": "execute_result"
    }
   ],
   "source": [
    "len(goal)"
   ]
  },
  {
   "cell_type": "code",
   "execution_count": 69,
   "id": "36e94115",
   "metadata": {},
   "outputs": [
    {
     "data": {
      "text/plain": [
       "'cd'"
      ]
     },
     "execution_count": 69,
     "metadata": {},
     "output_type": "execute_result"
    }
   ],
   "source": [
    "new_str[new_str.index(goal[0]):len(goal)]"
   ]
  },
  {
   "cell_type": "code",
   "execution_count": 59,
   "id": "47ec8381",
   "metadata": {},
   "outputs": [
    {
     "data": {
      "text/plain": [
       "True"
      ]
     },
     "execution_count": 59,
     "metadata": {},
     "output_type": "execute_result"
    }
   ],
   "source": [
    "def rotate_string_constant_tc(s,goal):\n",
    "    s_first_index = s.index(goal[0])\n",
    "    s_last_index = s.index(goal[-1])\n",
    "    \n",
    "    return s[s_first_index:]+s[:s_last_index+1] == goal\n",
    "    \n",
    "rotate_string_constant_tc(s,goal)"
   ]
  },
  {
   "cell_type": "code",
   "execution_count": 61,
   "id": "5d31f2f7",
   "metadata": {},
   "outputs": [
    {
     "data": {
      "text/plain": [
       "(False, False)"
      ]
     },
     "execution_count": 61,
     "metadata": {},
     "output_type": "execute_result"
    }
   ],
   "source": [
    "s = \"abcde\"\n",
    "goal = \"abced\"\n",
    "rotate_string_bf(s,goal),rotate_string_constant_tc(s,goal)"
   ]
  },
  {
   "cell_type": "code",
   "execution_count": 62,
   "id": "24378097",
   "metadata": {},
   "outputs": [
    {
     "data": {
      "text/plain": [
       "(True, True)"
      ]
     },
     "execution_count": 62,
     "metadata": {},
     "output_type": "execute_result"
    }
   ],
   "source": [
    "s = \"abcde\"\n",
    "goal = \"cdea\"\n",
    "rotate_string_constant_tc(s,goal),rotate_string_constant_tc(s,goal)"
   ]
  },
  {
   "cell_type": "code",
   "execution_count": null,
   "id": "eb9f3947",
   "metadata": {},
   "outputs": [],
   "source": []
  }
 ],
 "metadata": {
  "kernelspec": {
   "display_name": "env",
   "language": "python",
   "name": "python3"
  },
  "language_info": {
   "codemirror_mode": {
    "name": "ipython",
    "version": 3
   },
   "file_extension": ".py",
   "mimetype": "text/x-python",
   "name": "python",
   "nbconvert_exporter": "python",
   "pygments_lexer": "ipython3",
   "version": "3.10.0"
  }
 },
 "nbformat": 4,
 "nbformat_minor": 5
}
