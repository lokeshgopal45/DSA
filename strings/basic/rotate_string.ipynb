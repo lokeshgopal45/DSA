{
 "cells": [
  {
   "cell_type": "markdown",
   "id": "3528b5d6",
   "metadata": {},
   "source": [
    "[](https://leetcode.com/problems/rotate-string/description/)"
   ]
  },
  {
   "cell_type": "markdown",
   "id": "0a22d63d",
   "metadata": {},
   "source": [
    "Leetcode Problem : https://leetcode.com/problems/rotate-string/description/"
   ]
  },
  {
   "cell_type": "markdown",
   "id": "f7087897",
   "metadata": {},
   "source": [
    "- 1st Approach "
   ]
  },
  {
   "cell_type": "code",
   "execution_count": 44,
   "id": "c98ae4fd",
   "metadata": {},
   "outputs": [],
   "source": [
    "s = \"abcde\"\n",
    "goal = \"cdeab\""
   ]
  },
  {
   "cell_type": "code",
   "execution_count": 45,
   "id": "22116ffc",
   "metadata": {},
   "outputs": [
    {
     "data": {
      "text/plain": [
       "True"
      ]
     },
     "execution_count": 45,
     "metadata": {},
     "output_type": "execute_result"
    }
   ],
   "source": [
    "# 1st approach I would say Brutforce \n",
    "def rotate_string_bf(s,goal):\n",
    "    for i in range(len(s)):\n",
    "        if s[i:]+s[:i]==goal:\n",
    "            return True\n",
    "            break\n",
    "    else:\n",
    "        return False\n",
    "rotate_string_bf(s,goal)"
   ]
  },
  {
   "cell_type": "markdown",
   "id": "5a9d6764",
   "metadata": {},
   "source": [
    "**Time Complexity** : O(n^2) \n",
    "\n",
    "- O(n) for loop,\n",
    "- O(n) for comparing <br>\n",
    "\n",
    "**Space Complexity** : O(n) because while comparing it will consume O(n)"
   ]
  },
  {
   "cell_type": "code",
   "execution_count": 46,
   "id": "5e7982a1",
   "metadata": {},
   "outputs": [
    {
     "data": {
      "text/plain": [
       "False"
      ]
     },
     "execution_count": 46,
     "metadata": {},
     "output_type": "execute_result"
    }
   ],
   "source": [
    "s = \"abcde\"\n",
    "goal = \"abced\"\n",
    "rotate_string_bf(s,goal)"
   ]
  },
  {
   "cell_type": "code",
   "execution_count": 47,
   "id": "a7f1d5da",
   "metadata": {},
   "outputs": [
    {
     "data": {
      "text/plain": [
       "True"
      ]
     },
     "execution_count": 47,
     "metadata": {},
     "output_type": "execute_result"
    }
   ],
   "source": [
    "s = \"abcde\"\n",
    "goal = \"cdeab\"\n",
    "rotate_string_bf(s,goal)"
   ]
  },
  {
   "cell_type": "markdown",
   "id": "f263b314",
   "metadata": {},
   "source": [
    "- 2nd Approach - Failing Testcases"
   ]
  },
  {
   "cell_type": "code",
   "execution_count": 48,
   "id": "47ec8381",
   "metadata": {},
   "outputs": [
    {
     "data": {
      "text/plain": [
       "True"
      ]
     },
     "execution_count": 48,
     "metadata": {},
     "output_type": "execute_result"
    }
   ],
   "source": [
    "def rotate_string_constant_tc(s,goal):\n",
    "    s_first_index = s.index(goal[0])\n",
    "    s_last_index = s.index(goal[-1])\n",
    "    \n",
    "    return s[s_first_index:]+s[:s_last_index+1] == goal\n",
    "    \n",
    "rotate_string_constant_tc(s,goal)"
   ]
  },
  {
   "cell_type": "markdown",
   "id": "a0038d02",
   "metadata": {},
   "source": [
    "**Time Complexity** : O(n^2) (similar to brutforce)<br>\n",
    "**Space Complexity** : O(1)"
   ]
  },
  {
   "cell_type": "code",
   "execution_count": 49,
   "id": "5d31f2f7",
   "metadata": {},
   "outputs": [
    {
     "data": {
      "text/plain": [
       "(False, False)"
      ]
     },
     "execution_count": 49,
     "metadata": {},
     "output_type": "execute_result"
    }
   ],
   "source": [
    "s = \"abcde\"\n",
    "goal = \"abced\"\n",
    "rotate_string_bf(s,goal),rotate_string_constant_tc(s,goal)"
   ]
  },
  {
   "cell_type": "code",
   "execution_count": 50,
   "id": "24378097",
   "metadata": {},
   "outputs": [
    {
     "data": {
      "text/plain": [
       "(True, True)"
      ]
     },
     "execution_count": 50,
     "metadata": {},
     "output_type": "execute_result"
    }
   ],
   "source": [
    "s = \"abcde\"\n",
    "goal = \"cdea\"\n",
    "rotate_string_constant_tc(s,goal),rotate_string_constant_tc(s,goal)"
   ]
  },
  {
   "cell_type": "markdown",
   "id": "5b93ee29",
   "metadata": {},
   "source": [
    "- 3. Striver approach "
   ]
  },
  {
   "cell_type": "code",
   "execution_count": 51,
   "id": "eb9f3947",
   "metadata": {},
   "outputs": [
    {
     "data": {
      "text/plain": [
       "('abcde', 'cdea')"
      ]
     },
     "execution_count": 51,
     "metadata": {},
     "output_type": "execute_result"
    }
   ],
   "source": [
    "s,goal"
   ]
  },
  {
   "cell_type": "code",
   "execution_count": 52,
   "id": "3cf738cf",
   "metadata": {},
   "outputs": [
    {
     "data": {
      "text/plain": [
       "True"
      ]
     },
     "execution_count": 52,
     "metadata": {},
     "output_type": "execute_result"
    }
   ],
   "source": [
    "def using_concatnation(s,goal):\n",
    "    new_str = s*2\n",
    "    return goal in new_str\n",
    "using_concatnation(s,goal)"
   ]
  },
  {
   "cell_type": "markdown",
   "id": "490865e2",
   "metadata": {},
   "source": [
    "**Time Complexity** : O(n) for creating new string <br>\n",
    "**Space Complexity** : O(n) because while comparing it will consume O(n)"
   ]
  },
  {
   "cell_type": "code",
   "execution_count": 53,
   "id": "1b9fd0a7",
   "metadata": {},
   "outputs": [
    {
     "data": {
      "text/plain": [
       "(False, False, False)"
      ]
     },
     "execution_count": 53,
     "metadata": {},
     "output_type": "execute_result"
    }
   ],
   "source": [
    "s = \"abcde\"\n",
    "goal = \"abced\"\n",
    "rotate_string_bf(s,goal),rotate_string_constant_tc(s,goal),using_concatnation(s,goal)"
   ]
  },
  {
   "cell_type": "code",
   "execution_count": 54,
   "id": "8e0b0532",
   "metadata": {},
   "outputs": [
    {
     "data": {
      "text/plain": [
       "(True, True)"
      ]
     },
     "execution_count": 54,
     "metadata": {},
     "output_type": "execute_result"
    }
   ],
   "source": [
    "s = \"abcde\"\n",
    "goal = \"cdea\"\n",
    "rotate_string_constant_tc(s,goal),using_concatnation(s,goal)"
   ]
  }
 ],
 "metadata": {
  "kernelspec": {
   "display_name": "env",
   "language": "python",
   "name": "python3"
  },
  "language_info": {
   "codemirror_mode": {
    "name": "ipython",
    "version": 3
   },
   "file_extension": ".py",
   "mimetype": "text/x-python",
   "name": "python",
   "nbconvert_exporter": "python",
   "pygments_lexer": "ipython3",
   "version": "3.10.0"
  }
 },
 "nbformat": 4,
 "nbformat_minor": 5
}
