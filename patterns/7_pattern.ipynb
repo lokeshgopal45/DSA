{
 "cells": [
  {
   "cell_type": "code",
   "execution_count": 95,
   "id": "2686fcf2",
   "metadata": {},
   "outputs": [
    {
     "name": "stdout",
     "output_type": "stream",
     "text": [
      "A B C D E F G H I J K L M N O P Q R S T U V W X Y Z "
     ]
    }
   ],
   "source": [
    "for i in range(26):\n",
    "    print(chr(i + 65), end=' ')"
   ]
  },
  {
   "cell_type": "code",
   "execution_count": 96,
   "id": "cc862948",
   "metadata": {},
   "outputs": [
    {
     "name": "stdout",
     "output_type": "stream",
     "text": [
      "    A    \n",
      "   ABA   \n",
      "  ABCBA  \n",
      " ABCDCBA \n"
     ]
    }
   ],
   "source": [
    "N = 5\n",
    "for i in range(1,N):\n",
    "    print((N - i) * ' ' + (\"\".join([chr(j) for j in range(65, 65 + i)])) + \"\".join([chr(j) for j in range(63+i , 64 ,- 1)]) + (N - i) * ' ')"
   ]
  },
  {
   "cell_type": "code",
   "execution_count": 97,
   "id": "4ca9cce1",
   "metadata": {},
   "outputs": [
    {
     "data": {
      "text/plain": [
       "'A'"
      ]
     },
     "execution_count": 97,
     "metadata": {},
     "output_type": "execute_result"
    }
   ],
   "source": [
    "i = 1\n",
    "\"\".join([chr(j) for j in range(65, 65 + i)])"
   ]
  },
  {
   "cell_type": "code",
   "execution_count": 98,
   "id": "b0bb67ab",
   "metadata": {},
   "outputs": [
    {
     "data": {
      "text/plain": [
       "''"
      ]
     },
     "execution_count": 98,
     "metadata": {},
     "output_type": "execute_result"
    }
   ],
   "source": [
    "i = 1\n",
    "\"\".join([chr(j) for j in range(63+i , 64,-1)])"
   ]
  }
 ],
 "metadata": {
  "kernelspec": {
   "display_name": "env",
   "language": "python",
   "name": "python3"
  },
  "language_info": {
   "codemirror_mode": {
    "name": "ipython",
    "version": 3
   },
   "file_extension": ".py",
   "mimetype": "text/x-python",
   "name": "python",
   "nbconvert_exporter": "python",
   "pygments_lexer": "ipython3",
   "version": "3.10.0"
  }
 },
 "nbformat": 4,
 "nbformat_minor": 5
}
