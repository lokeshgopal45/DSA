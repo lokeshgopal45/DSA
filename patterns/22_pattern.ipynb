{
 "cells": [
  {
   "cell_type": "code",
   "execution_count": null,
   "id": "82819c70",
   "metadata": {},
   "outputs": [],
   "source": [
    "n = 5"
   ]
  },
  {
   "cell_type": "code",
   "execution_count": null,
   "id": "d2a2670c",
   "metadata": {},
   "outputs": [
    {
     "name": "stdout",
     "output_type": "stream",
     "text": [
      "5 5 5 5 5 5 5 5 5\n",
      "5 4 4 4 4 4 4 4 5\n",
      "5 4 3 3 3 3 3 4 5\n",
      "5 4 3 2 2 2 3 4 5\n",
      "5 5 5 5 5 5 5 5 5\n",
      "5 4 3 2 2 2 3 4 5\n",
      "5 4 3 3 3 3 3 4 5\n",
      "5 4 4 4 4 4 4 4 5\n"
     ]
    }
   ],
   "source": [
    "for i in range(n):\n",
    "    if i == 0 or i == n-1:\n",
    "        print(\" \".join([str(n)] * (n*2-1)))\n",
    "    else:\n",
    "        print(\" \".join([str(j) for j in range(n,n-i,-1)]) + \" \" + \" \".join(str(n-i) * (n*2-(2*i)-1)) + \" \" + \" \".join([str(j) for j in range(n-i+1,n+1)]))\n",
    "         \n",
    "for i in range(n-2,0,-1):\n",
    "    if i == 0:\n",
    "        print(\" \".join([str(n)] * (n*2-1)))\n",
    "    print(\" \".join([str(j) for j in range(n,n-i,-1)]) + \" \" + \" \".join(str(n-i) * (n*2-(2*i)-1)) + \" \" + \" \".join([str(j) for j in range(n-i+1,n+1)]))"
   ]
  },
  {
   "cell_type": "code",
   "execution_count": null,
   "id": "72687b58",
   "metadata": {},
   "outputs": [
    {
     "name": "stdout",
     "output_type": "stream",
     "text": [
      "5 5 5 5 5 5 5 5 5\n",
      "5 4 4 4 4 4 4 4 5\n",
      "5 4 3 3 3 3 3 4 5\n",
      "5 4 3 2 2 2 3 4 5\n",
      "5 4 3 2 1 2 3 4 5\n",
      "5 4 3 2 2 2 3 4 5\n",
      "5 4 3 3 3 3 3 4 5\n",
      "5 4 4 4 4 4 4 4 5\n",
      "5 5 5 5 5 5 5 5 5\n"
     ]
    }
   ],
   "source": [
    "n = 5\n",
    "for i in range(n):\n",
    "    if i == 0:\n",
    "        print(\" \".join([str(n)] * (n*2-1)))\n",
    "    else:\n",
    "        print(\" \".join([str(j) for j in range(n, n-i, -1)]) + \" \"\n",
    "              + \" \".join([str(n-i)] * (n*2-(2*i)-1)) + \" \"\n",
    "              + \" \".join([str(j) for j in range(n-i+1, n+1)]))\n",
    "\n",
    "for i in range(n-2, -1, -1):  # inclusive of 0\n",
    "    if i == 0:\n",
    "        print(\" \".join([str(n)] * (n*2-1)))\n",
    "    else:\n",
    "        print(\" \".join([str(j) for j in range(n, n-i, -1)]) + \" \"\n",
    "              + \" \".join([str(n-i)] * (n*2-(2*i)-1)) + \" \"\n",
    "              + \" \".join([str(j) for j in range(n-i+1, n+1)]))\n"
   ]
  },
  {
   "cell_type": "code",
   "execution_count": null,
   "id": "fdae2604",
   "metadata": {},
   "outputs": [
    {
     "data": {
      "text/plain": [
       "[5]"
      ]
     },
     "execution_count": 45,
     "metadata": {},
     "output_type": "execute_result"
    }
   ],
   "source": [
    "[i for i in range(n,n-1,-1)]"
   ]
  },
  {
   "cell_type": "code",
   "execution_count": null,
   "id": "684d417f",
   "metadata": {},
   "outputs": [
    {
     "data": {
      "text/plain": [
       "4"
      ]
     },
     "execution_count": 13,
     "metadata": {},
     "output_type": "execute_result"
    }
   ],
   "source": [
    "(n-1)"
   ]
  },
  {
   "cell_type": "code",
   "execution_count": null,
   "id": "5453c05f",
   "metadata": {},
   "outputs": [
    {
     "name": "stdout",
     "output_type": "stream",
     "text": [
      "4 4 4 4 4 4 4\n",
      "4 4 4 4 4\n",
      "4 4 4\n",
      "4\n"
     ]
    }
   ],
   "source": [
    "for i in range(1,n):\n",
    "    print(\" \".join(str(n-1) * (n*2-(2*i)-1)))\n"
   ]
  },
  {
   "cell_type": "code",
   "execution_count": null,
   "id": "71597445",
   "metadata": {},
   "outputs": [],
   "source": []
  }
 ],
 "metadata": {
  "kernelspec": {
   "display_name": "env",
   "language": "python",
   "name": "python3"
  },
  "language_info": {
   "codemirror_mode": {
    "name": "ipython",
    "version": 3
   },
   "file_extension": ".py",
   "mimetype": "text/x-python",
   "name": "python",
   "nbconvert_exporter": "python",
   "pygments_lexer": "ipython3",
   "version": "3.10.0"
  }
 },
 "nbformat": 4,
 "nbformat_minor": 5
}
