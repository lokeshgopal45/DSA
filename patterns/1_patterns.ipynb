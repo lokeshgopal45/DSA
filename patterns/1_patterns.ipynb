{
 "cells": [
  {
   "cell_type": "markdown",
   "id": "921670a9",
   "metadata": {},
   "source": [
    "## 12th May 2025 "
   ]
  },
  {
   "cell_type": "markdown",
   "id": "e0623863",
   "metadata": {},
   "source": [
    "#### Patterns Rules\n",
    "\n",
    "1. Figure out the no of verical lines and outerloop is depend on it \n",
    "2. Figure out what is happening at every horizontal line & try to connect with outerloop if possible \n",
    "3. Execute the pattern whenever needed\n",
    "4. Observer Symmetry (optional)"
   ]
  },
  {
   "cell_type": "markdown",
   "id": "aa850877",
   "metadata": {},
   "source": [
    "- 1. Sqaure Pattern"
   ]
  },
  {
   "cell_type": "code",
   "execution_count": 49,
   "id": "f504912d",
   "metadata": {},
   "outputs": [],
   "source": [
    "class Solution:\n",
    "    def diamond(self, n):\n",
    "        for i in range(1,n+1):\n",
    "            \n",
    "            # left spaces\n",
    "            for j in range(n-i,0,-1):\n",
    "                print(' ',end='')\n",
    "\n",
    "            # middle stars (odd number series 1,3,5,7...)\n",
    "\n",
    "            for j in range(((2*i)-1)):\n",
    "                print('*',end='')\n",
    "\n",
    "            # right spaces \n",
    "            for j in range(n-i,0,-1):\n",
    "                print(' ',end='')\n",
    "\n",
    "            print()\n",
    "            \n",
    "        for i in range(1,n+1):\n",
    "            \n",
    "            # left spaces\n",
    "            for j in range(i-1):\n",
    "                print(' ',end='')\n",
    "\n",
    "            # middle stars (odd number series 1,3,5,7...)\n",
    "            for j in range(((2*n)-1)- (2*(i-1))):\n",
    "                print('*',end='')\n",
    "\n",
    "            # right spaces \n",
    "            for j in range(i-1):\n",
    "                print(' ',end='')\n",
    "\n",
    "            print()"
   ]
  },
  {
   "cell_type": "code",
   "execution_count": 50,
   "id": "2756deac",
   "metadata": {},
   "outputs": [
    {
     "name": "stdout",
     "output_type": "stream",
     "text": [
      "    *    \n",
      "   ***   \n",
      "  *****  \n",
      " ******* \n",
      "*********\n",
      "*********\n",
      " ******* \n",
      "  *****  \n",
      "   ***   \n",
      "    *    \n"
     ]
    }
   ],
   "source": [
    "s7 = Solution()\n",
    "s7.diamond(5)"
   ]
  },
  {
   "cell_type": "code",
   "execution_count": 46,
   "id": "3682bfab",
   "metadata": {},
   "outputs": [],
   "source": [
    "class Solution:\n",
    "    def pattern8(self, n):\n",
    "        for i in range(1,n+1):\n",
    "            \n",
    "            # left spaces\n",
    "            for j in range(i-1):\n",
    "                print(' ',end='')\n",
    "\n",
    "            # middle stars (odd number series 1,3,5,7...)\n",
    "            for j in range(((2*n)-1)- (2*(i-1))):\n",
    "                print('*',end='')\n",
    "\n",
    "            # right spaces \n",
    "            for j in range(i-1):\n",
    "                print(' ',end='')\n",
    "\n",
    "            print()"
   ]
  },
  {
   "cell_type": "code",
   "execution_count": 48,
   "id": "1735f488",
   "metadata": {},
   "outputs": [
    {
     "name": "stdout",
     "output_type": "stream",
     "text": [
      "    *    \n",
      "   ***   \n",
      "  *****  \n",
      " ******* \n",
      "*********\n",
      "*********\n",
      " ******* \n",
      "  *****  \n",
      "   ***   \n",
      "    *    \n"
     ]
    }
   ],
   "source": [
    "s1 = Solution()\n",
    "s7.pattern7(5)\n",
    "s1.pattern8(5)"
   ]
  }
 ],
 "metadata": {
  "kernelspec": {
   "display_name": "env",
   "language": "python",
   "name": "python3"
  },
  "language_info": {
   "codemirror_mode": {
    "name": "ipython",
    "version": 3
   },
   "file_extension": ".py",
   "mimetype": "text/x-python",
   "name": "python",
   "nbconvert_exporter": "python",
   "pygments_lexer": "ipython3",
   "version": "3.10.0"
  }
 },
 "nbformat": 4,
 "nbformat_minor": 5
}
