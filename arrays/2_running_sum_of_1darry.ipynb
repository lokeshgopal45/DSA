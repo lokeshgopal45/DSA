{
 "cells": [
  {
   "cell_type": "markdown",
   "id": "87e768f2",
   "metadata": {},
   "source": [
    "Leetcode Problem : https://leetcode.com/problems/running-sum-of-1d-array/description/"
   ]
  },
  {
   "cell_type": "markdown",
   "id": "405db277",
   "metadata": {},
   "source": [
    "- Intution \n",
    "1. Traverse trough each element and add previous elements upto that index \n",
    "2. store it in separate list"
   ]
  },
  {
   "cell_type": "code",
   "execution_count": 2,
   "id": "30171998",
   "metadata": {},
   "outputs": [],
   "source": [
    "from typing import List"
   ]
  },
  {
   "cell_type": "code",
   "execution_count": 9,
   "id": "5cb9e143",
   "metadata": {},
   "outputs": [],
   "source": [
    "class Solution:\n",
    "    def runningSum(self, nums: List[int]) -> List[int]:\n",
    "        \n",
    "        running_sum_list = []\n",
    "        for i in range(len(nums)):\n",
    "            each_sum = sum(nums[:i+1])\n",
    "            running_sum_list.append(each_sum)\n",
    "            \n",
    "        return running_sum_list            \n",
    "        "
   ]
  },
  {
   "cell_type": "code",
   "execution_count": 10,
   "id": "07f700dc",
   "metadata": {},
   "outputs": [
    {
     "data": {
      "text/plain": [
       "[1, 3, 6, 10]"
      ]
     },
     "execution_count": 10,
     "metadata": {},
     "output_type": "execute_result"
    }
   ],
   "source": [
    "nums = [1,2,3,4]\n",
    "s1 = Solution()\n",
    "s1.runningSum(nums)"
   ]
  },
  {
   "cell_type": "code",
   "execution_count": 11,
   "id": "e3f04325",
   "metadata": {},
   "outputs": [
    {
     "data": {
      "text/plain": [
       "[1, 2, 3, 4, 5]"
      ]
     },
     "execution_count": 11,
     "metadata": {},
     "output_type": "execute_result"
    }
   ],
   "source": [
    "nums = [1,1,1,1,1]\n",
    "s1.runningSum(nums)"
   ]
  },
  {
   "cell_type": "code",
   "execution_count": 12,
   "id": "6ac5dcc0",
   "metadata": {},
   "outputs": [
    {
     "data": {
      "text/plain": [
       "[3, 4, 6, 16, 17]"
      ]
     },
     "execution_count": 12,
     "metadata": {},
     "output_type": "execute_result"
    }
   ],
   "source": [
    "nums = [3,1,2,10,1]\n",
    "s1.runningSum(nums)"
   ]
  },
  {
   "cell_type": "code",
   "execution_count": 13,
   "id": "52416d43",
   "metadata": {},
   "outputs": [
    {
     "name": "stderr",
     "output_type": "stream",
     "text": [
      ".........\n",
      "----------------------------------------------------------------------\n",
      "Ran 5 tests in 0.002s\n",
      "\n",
      "OK\n",
      "\n",
      "----------------------------------------------------------------------\n",
      "Ran 5 tests in 0.002s\n",
      "\n",
      "OK\n"
     ]
    }
   ],
   "source": [
    "import unittest\n",
    "\n",
    "class TestRunningSumSolution(unittest.TestCase):\n",
    "    def setUp(self):\n",
    "        self.solution = Solution()\n",
    "        \n",
    "    def test_basic_case(self):\n",
    "        nums = [1, 2, 3, 4]\n",
    "        expected = [1, 3, 6, 10]\n",
    "        self.assertEqual(self.solution.runningSum(nums), expected)\n",
    "        \n",
    "    def test_same_numbers(self):\n",
    "        nums = [1, 1, 1, 1, 1]\n",
    "        expected = [1, 2, 3, 4, 5]\n",
    "        self.assertEqual(self.solution.runningSum(nums), expected)\n",
    "        \n",
    "    def test_mixed_numbers(self):\n",
    "        nums = [3, 1, 2, 10, 1]\n",
    "        expected = [3, 4, 6, 16, 17]\n",
    "        self.assertEqual(self.solution.runningSum(nums), expected)\n",
    "        \n",
    "    def test_empty_list(self):\n",
    "        nums = []\n",
    "        expected = []\n",
    "        self.assertEqual(self.solution.runningSum(nums), expected)\n",
    "        \n",
    "    def test_single_element(self):\n",
    "        nums = [5]\n",
    "        expected = [5]\n",
    "        self.assertEqual(self.solution.runningSum(nums), expected)\n",
    "\n",
    "# Run the tests\n",
    "if __name__ == '__main__':\n",
    "    unittest.main(argv=['first-arg-is-ignored'], exit=False)"
   ]
  }
 ],
 "metadata": {
  "kernelspec": {
   "display_name": "env",
   "language": "python",
   "name": "python3"
  },
  "language_info": {
   "codemirror_mode": {
    "name": "ipython",
    "version": 3
   },
   "file_extension": ".py",
   "mimetype": "text/x-python",
   "name": "python",
   "nbconvert_exporter": "python",
   "pygments_lexer": "ipython3",
   "version": "3.10.0"
  }
 },
 "nbformat": 4,
 "nbformat_minor": 5
}
