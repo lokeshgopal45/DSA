{
 "cells": [
  {
   "cell_type": "markdown",
   "id": "ec201098",
   "metadata": {},
   "source": [
    "Leetcode : https://leetcode.com/problems/number-of-steps-to-reduce-a-number-to-zero/description/"
   ]
  },
  {
   "cell_type": "markdown",
   "id": "db514a7b",
   "metadata": {},
   "source": [
    "- Intution\n",
    "1. Until 0\n",
    "2. If Number is odd subtract \n",
    "3. If Number is even divide it by 2 "
   ]
  },
  {
   "cell_type": "code",
   "execution_count": 27,
   "id": "a628edae",
   "metadata": {},
   "outputs": [],
   "source": [
    "class Solution:\n",
    "    def numberOfSteps(self, num: int) -> int:\n",
    "        cnt = 0\n",
    "        while num!=0:\n",
    "            if num%2==1:\n",
    "                num-=1\n",
    "                cnt+=1\n",
    "            else:\n",
    "                num = num//2\n",
    "                cnt+=1\n",
    "        \n",
    "        return cnt"
   ]
  },
  {
   "cell_type": "code",
   "execution_count": null,
   "id": "e4c3f89d",
   "metadata": {},
   "outputs": [],
   "source": []
  }
 ],
 "metadata": {
  "kernelspec": {
   "display_name": "env",
   "language": "python",
   "name": "python3"
  },
  "language_info": {
   "codemirror_mode": {
    "name": "ipython",
    "version": 3
   },
   "file_extension": ".py",
   "mimetype": "text/x-python",
   "name": "python",
   "nbconvert_exporter": "python",
   "pygments_lexer": "ipython3",
   "version": "3.10.0"
  }
 },
 "nbformat": 4,
 "nbformat_minor": 5
}
