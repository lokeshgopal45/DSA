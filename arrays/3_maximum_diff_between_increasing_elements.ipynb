{
 "cells": [
  {
   "cell_type": "code",
   "execution_count": 63,
   "id": "3a297d09",
   "metadata": {},
   "outputs": [],
   "source": [
    "# Given a 0-indexed integer array nums of size n,\n",
    "# find the maximum difference between nums[i] and nums[j] (i.e., nums[j] - nums[i]),\n",
    "# such that 0 <= i < j < n and nums[i] < nums[j].\n",
    "\n",
    "# Return the maximum difference. If no such i and j exists, return -1."
   ]
  },
  {
   "cell_type": "code",
   "execution_count": 92,
   "id": "21bb97d3",
   "metadata": {},
   "outputs": [],
   "source": [
    "# nums = [7,1,5,4]\n",
    "nums = [1,5,2,10]\n",
    "nums = [9,4,3,2]"
   ]
  },
  {
   "cell_type": "code",
   "execution_count": null,
   "id": "a6bbc218",
   "metadata": {},
   "outputs": [],
   "source": [
    "# nums = [999,997,980,976,948,940,938,928,924,917,907,907,881,878,864,862,859,857,848,840,824,824,824,805,802,798,788,777,775,766,755,748,735,732,727,705,700,697,693,679,676,644,634,624,599,596,588,583,562,558,553,539,537,536,509,491,485,483,454,449,438,425,403,368,345,327,287,285,270,263,255,248,235,234,224,221,201,189,187,183,179,168,155,153,150,144,107,102,102,87,80,57,55,49,48,45,26,26,23,15]"
   ]
  },
  {
   "cell_type": "code",
   "execution_count": 99,
   "id": "5fa95461",
   "metadata": {},
   "outputs": [
    {
     "name": "stdout",
     "output_type": "stream",
     "text": [
      "True 9 4\n",
      "True 9 3\n",
      "True 9 2\n",
      "True 4 3\n",
      "True 4 2\n",
      "True 3 2\n"
     ]
    }
   ],
   "source": [
    "for i in range(len(nums)):\n",
    "    for j in range(i+1,len(nums)):\n",
    "        print(nums[i]>nums[j],nums[i],nums[j])"
   ]
  },
  {
   "cell_type": "code",
   "execution_count": 98,
   "id": "3bfefb2f",
   "metadata": {},
   "outputs": [
    {
     "data": {
      "text/plain": [
       "0"
      ]
     },
     "execution_count": 98,
     "metadata": {},
     "output_type": "execute_result"
    }
   ],
   "source": [
    "cnt = 0\n",
    "max_diff = float('-inf')\n",
    "\n",
    "for i in range(len(nums)):\n",
    "    for j in range(i+1,len(nums)):\n",
    "        if nums[i]>nums[j]:\n",
    "            diff = nums[j]-nums[i]\n",
    "            if diff>max_diff:\n",
    "                max_diff = diff\n",
    "        else:\n",
    "            cnt+=1\n",
    "            \n",
    "cnt\n",
    "# if cnt == len(nums):\n",
    "#     print(cnt)\n",
    "# else:\n",
    "#     print(max_diff)"
   ]
  },
  {
   "cell_type": "code",
   "execution_count": 91,
   "id": "16639317",
   "metadata": {},
   "outputs": [
    {
     "data": {
      "text/plain": [
       "6"
      ]
     },
     "execution_count": 91,
     "metadata": {},
     "output_type": "execute_result"
    }
   ],
   "source": [
    "cnt"
   ]
  },
  {
   "cell_type": "code",
   "execution_count": null,
   "id": "eb7d1555",
   "metadata": {},
   "outputs": [
    {
     "data": {
      "text/plain": [
       "-1"
      ]
     },
     "execution_count": 65,
     "metadata": {},
     "output_type": "execute_result"
    }
   ],
   "source": [
    "for i in range(len(nums)):\n",
    "    for j in range(i+1,len(nums)):\n",
    "        \n",
    "max_diff"
   ]
  },
  {
   "cell_type": "code",
   "execution_count": null,
   "id": "a4942a14",
   "metadata": {},
   "outputs": [],
   "source": []
  }
 ],
 "metadata": {
  "kernelspec": {
   "display_name": "env",
   "language": "python",
   "name": "python3"
  },
  "language_info": {
   "codemirror_mode": {
    "name": "ipython",
    "version": 3
   },
   "file_extension": ".py",
   "mimetype": "text/x-python",
   "name": "python",
   "nbconvert_exporter": "python",
   "pygments_lexer": "ipython3",
   "version": "3.10.0"
  }
 },
 "nbformat": 4,
 "nbformat_minor": 5
}
