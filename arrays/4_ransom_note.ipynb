{
 "cells": [
  {
   "cell_type": "markdown",
   "id": "9f19e909",
   "metadata": {},
   "source": [
    "Leetcode : https://leetcode.com/problems/ransom-note/description/"
   ]
  },
  {
   "cell_type": "markdown",
   "id": "5ae48e7e",
   "metadata": {},
   "source": [
    "- Intution \n",
    "1. build hashmap for ransom and magazine \n",
    "2. check ransom character frequency should match with magazine character frequency "
   ]
  },
  {
   "cell_type": "code",
   "execution_count": 37,
   "id": "27ed82a8",
   "metadata": {},
   "outputs": [],
   "source": [
    "def create_hash_map(s):\n",
    "    string_hash_map = dict()\n",
    "\n",
    "    for i in s:\n",
    "        if i not in string_hash_map:\n",
    "            string_hash_map[i] =1\n",
    "        else:\n",
    "            string_hash_map[i] +=1\n",
    "            \n",
    "    return string_hash_map\n",
    "\n",
    "def check_ransom_in_magazine(ransom,magazine_):\n",
    "    for key,value in ransom.items():\n",
    "        if not value == magazine_.get(key):\n",
    "            return False\n",
    "            break\n",
    "    return True"
   ]
  },
  {
   "cell_type": "code",
   "execution_count": 41,
   "id": "5fa68e58",
   "metadata": {},
   "outputs": [],
   "source": [
    "ransomNote = \"a\"\n",
    "magazine = \"b\""
   ]
  },
  {
   "cell_type": "code",
   "execution_count": null,
   "id": "87737f63",
   "metadata": {},
   "outputs": [
    {
     "data": {
      "text/plain": [
       "False"
      ]
     },
     "execution_count": 42,
     "metadata": {},
     "output_type": "execute_result"
    }
   ],
   "source": [
    "ransom = create_hash_map(ransomNote)\n",
    "magazine_ = create_hash_map(magazine)\n"
   ]
  },
  {
   "cell_type": "code",
   "execution_count": null,
   "id": "fc6b52f9",
   "metadata": {},
   "outputs": [
    {
     "data": {
      "text/plain": [
       "False"
      ]
     },
     "execution_count": 44,
     "metadata": {},
     "output_type": "execute_result"
    }
   ],
   "source": [
    "ransomNote = \"aa\"\n",
    "magazine = \"ab\"\n",
    "ransom = create_hash_map(ransomNote)\n",
    "magazine_ = create_hash_map(magazine)\n"
   ]
  },
  {
   "cell_type": "code",
   "execution_count": 45,
   "id": "5bf204e7",
   "metadata": {},
   "outputs": [
    {
     "data": {
      "text/plain": [
       "True"
      ]
     },
     "execution_count": 45,
     "metadata": {},
     "output_type": "execute_result"
    }
   ],
   "source": [
    "ransomNote = \"aa\"\n",
    "magazine = \"aab\"\n",
    "ransom = create_hash_map(ransomNote)\n",
    "magazine_ = create_hash_map(magazine)\n",
    "check_ransom_in_magazine(ransom,magazine_)"
   ]
  }
 ],
 "metadata": {
  "kernelspec": {
   "display_name": "env",
   "language": "python",
   "name": "python3"
  },
  "language_info": {
   "codemirror_mode": {
    "name": "ipython",
    "version": 3
   },
   "file_extension": ".py",
   "mimetype": "text/x-python",
   "name": "python",
   "nbconvert_exporter": "python",
   "pygments_lexer": "ipython3",
   "version": "3.10.0"
  }
 },
 "nbformat": 4,
 "nbformat_minor": 5
}
