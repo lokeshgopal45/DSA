{
 "cells": [
  {
   "cell_type": "markdown",
   "id": "5ad6ea7e",
   "metadata": {},
   "source": []
  },
  {
   "cell_type": "code",
   "execution_count": 3,
   "id": "0b7c452e",
   "metadata": {},
   "outputs": [],
   "source": [
    "class Solution:\n",
    "    def arraySortedOrNot(self, arr, n):\n",
    "        is_reverse = 1\n",
    "        for i in range(1,len(arr)):\n",
    "            if arr[i-1] < arr[i]:\n",
    "                pass\n",
    "            else:\n",
    "                is_reverse = 0\n",
    "                break\n",
    "        return is_reverse\n",
    " "
   ]
  },
  {
   "cell_type": "code",
   "execution_count": 4,
   "id": "a7367293",
   "metadata": {},
   "outputs": [],
   "source": [
    "s1 = Solution()"
   ]
  },
  {
   "cell_type": "code",
   "execution_count": 5,
   "id": "e802e4ea",
   "metadata": {},
   "outputs": [
    {
     "data": {
      "text/plain": [
       "0"
      ]
     },
     "execution_count": 5,
     "metadata": {},
     "output_type": "execute_result"
    }
   ],
   "source": [
    "s1.arraySortedOrNot([2,1],2)"
   ]
  },
  {
   "cell_type": "code",
   "execution_count": null,
   "id": "e6300c9d",
   "metadata": {},
   "outputs": [],
   "source": []
  }
 ],
 "metadata": {
  "kernelspec": {
   "display_name": "env",
   "language": "python",
   "name": "python3"
  },
  "language_info": {
   "codemirror_mode": {
    "name": "ipython",
    "version": 3
   },
   "file_extension": ".py",
   "mimetype": "text/x-python",
   "name": "python",
   "nbconvert_exporter": "python",
   "pygments_lexer": "ipython3",
   "version": "3.10.0"
  }
 },
 "nbformat": 4,
 "nbformat_minor": 5
}
