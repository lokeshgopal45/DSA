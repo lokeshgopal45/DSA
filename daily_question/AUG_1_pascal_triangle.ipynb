{
 "cells": [
  {
   "cell_type": "code",
   "execution_count": 1,
   "id": "416d6251",
   "metadata": {},
   "outputs": [],
   "source": [
    "from typing import List"
   ]
  },
  {
   "cell_type": "code",
   "execution_count": null,
   "id": "c9987ff8",
   "metadata": {},
   "outputs": [],
   "source": [
    "class Solution:\n",
    "    def generate(self, numRows: int) -> List[List[int]]:\n",
    "        main_pascal = []\n",
    "        for iterator in range(1,numRows+1):\n",
    "            sub_pascal = [] # for each iteration one pascal triangle \n",
    "            #iterator = 1\n",
    "            if iterator>1:\n",
    "                sub_pascal.append(1) # 1st ele\n",
    "\n",
    "                last_pascal = main_pascal[-1]  # Getting last_pascal from main_pascal list to update the next pascal values \n",
    "                \n",
    "                if len(last_pascal) > 1:  # add every 2_elements sum\n",
    "                    \n",
    "                    for i in range(len(last_pascal)-1):\n",
    "                        ss = sum(last_pascal[i:i+2]) # we need to calc sum 2-2 values except first and last ele i.e, (1,1) \n",
    "                        sub_pascal.append(ss) \n",
    "\n",
    "                    sub_pascal.append(1) # last ele\n",
    "                else:\n",
    "                    s = sum(last_pascal)\n",
    "                    sub_pascal.append(s)        \n",
    "            else:\n",
    "                sub_pascal.append(1)\n",
    "            main_pascal.append(sub_pascal)\n",
    "\n",
    "        return main_pascal"
   ]
  },
  {
   "cell_type": "code",
   "execution_count": 5,
   "id": "b9eb7bde",
   "metadata": {},
   "outputs": [
    {
     "data": {
      "text/plain": [
       "[[1], [1, 1], [1, 2, 1], [1, 3, 3, 1], [1, 4, 6, 4, 1]]"
      ]
     },
     "execution_count": 5,
     "metadata": {},
     "output_type": "execute_result"
    }
   ],
   "source": [
    "s1 = Solution()\n",
    "s1.generate(5)"
   ]
  },
  {
   "cell_type": "code",
   "execution_count": null,
   "id": "8ae13c68",
   "metadata": {},
   "outputs": [],
   "source": []
  }
 ],
 "metadata": {
  "kernelspec": {
   "display_name": "env",
   "language": "python",
   "name": "python3"
  },
  "language_info": {
   "codemirror_mode": {
    "name": "ipython",
    "version": 3
   },
   "file_extension": ".py",
   "mimetype": "text/x-python",
   "name": "python",
   "nbconvert_exporter": "python",
   "pygments_lexer": "ipython3",
   "version": "3.10.0"
  }
 },
 "nbformat": 4,
 "nbformat_minor": 5
}
