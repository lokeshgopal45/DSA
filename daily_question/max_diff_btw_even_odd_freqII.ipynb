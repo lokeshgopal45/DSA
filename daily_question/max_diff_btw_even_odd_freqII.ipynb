{
 "cells": [
  {
   "cell_type": "code",
   "execution_count": 43,
   "id": "b0f7080c",
   "metadata": {},
   "outputs": [],
   "source": [
    "s = \"12233\"\n",
    "k = 4"
   ]
  },
  {
   "cell_type": "code",
   "execution_count": 48,
   "id": "39059880",
   "metadata": {},
   "outputs": [],
   "source": [
    "def max_diff(s):\n",
    "    ans_dict = {}\n",
    "    \n",
    "    # Count occurrences of each character\n",
    "    for i in s:\n",
    "        if i not in ans_dict:\n",
    "            ans_dict[i] = 1\n",
    "        else:\n",
    "            ans_dict[i] += 1\n",
    "    \n",
    "    # Get maximum count of characters with odd and even frequencies\n",
    "    odd_values = [i for i in ans_dict.values() if i % 2 == 1]\n",
    "    even_values = [i for i in ans_dict.values() if i % 2 == 0]\n",
    "    \n",
    "    max_odd = max(odd_values) if odd_values else 0\n",
    "    max_even = min(even_values) if even_values else 0  # Changed to min for even values\n",
    "    \n",
    "    return abs(max_odd - max_even)  # Added abs() for absolute difference\n",
    "\n",
    "def generate_sub_strings(s, k):\n",
    "    final_ans = float('-inf')\n",
    "    for i in range(len(s)):\n",
    "        for j in range(i+k, len(s)+1):\n",
    "            sub_str = s[i:j]\n",
    "            if len(sub_str) >= k:\n",
    "                max_diff_str = max_diff(sub_str)\n",
    "                final_ans = max(final_ans, max_diff_str)\n",
    "    \n",
    "    return final_ans\n"
   ]
  },
  {
   "cell_type": "code",
   "execution_count": 49,
   "id": "52c19a1e",
   "metadata": {},
   "outputs": [
    {
     "data": {
      "text/plain": [
       "3"
      ]
     },
     "execution_count": 49,
     "metadata": {},
     "output_type": "execute_result"
    }
   ],
   "source": [
    "generate_sub_strings(s,k)"
   ]
  },
  {
   "cell_type": "code",
   "execution_count": 50,
   "id": "8cceea7d",
   "metadata": {},
   "outputs": [
    {
     "data": {
      "text/plain": [
       "3"
      ]
     },
     "execution_count": 50,
     "metadata": {},
     "output_type": "execute_result"
    }
   ],
   "source": [
    "s = \"1122211\"\n",
    "k = 3\n",
    "generate_sub_strings(s,k)"
   ]
  },
  {
   "cell_type": "code",
   "execution_count": null,
   "id": "ea5e30a8",
   "metadata": {},
   "outputs": [],
   "source": []
  }
 ],
 "metadata": {
  "kernelspec": {
   "display_name": "env",
   "language": "python",
   "name": "python3"
  },
  "language_info": {
   "codemirror_mode": {
    "name": "ipython",
    "version": 3
   },
   "file_extension": ".py",
   "mimetype": "text/x-python",
   "name": "python",
   "nbconvert_exporter": "python",
   "pygments_lexer": "ipython3",
   "version": "3.10.0"
  }
 },
 "nbformat": 4,
 "nbformat_minor": 5
}
