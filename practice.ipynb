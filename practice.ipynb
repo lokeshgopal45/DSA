{
 "cells": [
  {
   "cell_type": "code",
   "execution_count": 1,
   "id": "13368833",
   "metadata": {},
   "outputs": [],
   "source": [
    "import numpy as np"
   ]
  },
  {
   "cell_type": "code",
   "execution_count": 2,
   "id": "9eb3c60e",
   "metadata": {},
   "outputs": [],
   "source": [
    "tomatoSlices = 16\n",
    "cheeseSlices = 7"
   ]
  },
  {
   "cell_type": "code",
   "execution_count": 10,
   "id": "90a0291b",
   "metadata": {},
   "outputs": [],
   "source": [
    "tomatoSlices = 4\n",
    "cheeseSlices = 17"
   ]
  },
  {
   "cell_type": "code",
   "execution_count": 11,
   "id": "de24ea3b",
   "metadata": {},
   "outputs": [],
   "source": [
    "jumbo_burgers, total_small = 0, 0 \n",
    "equation_1 = 4 * jumbo_burgers + 2 * total_small - tomatoSlices\n",
    "equation_2 = jumbo_burgers + total_small - cheeseSlices"
   ]
  },
  {
   "cell_type": "code",
   "execution_count": 12,
   "id": "18db07ef",
   "metadata": {},
   "outputs": [
    {
     "data": {
      "text/plain": [
       "-4"
      ]
     },
     "execution_count": 12,
     "metadata": {},
     "output_type": "execute_result"
    }
   ],
   "source": [
    "equation_1"
   ]
  },
  {
   "cell_type": "code",
   "execution_count": 13,
   "id": "95fb8630",
   "metadata": {},
   "outputs": [
    {
     "data": {
      "text/plain": [
       "-17"
      ]
     },
     "execution_count": 13,
     "metadata": {},
     "output_type": "execute_result"
    }
   ],
   "source": [
    "equation_2"
   ]
  },
  {
   "cell_type": "code",
   "execution_count": 14,
   "id": "215b3994",
   "metadata": {},
   "outputs": [
    {
     "data": {
      "text/plain": [
       "[-15, 32]"
      ]
     },
     "execution_count": 14,
     "metadata": {},
     "output_type": "execute_result"
    }
   ],
   "source": [
    "A = np.array([[4, 2],\n",
    "              [1, 1]])\n",
    "b = np.array([tomatoSlices, cheeseSlices])\n",
    "solution = np.linalg.solve(A, b).astype(int)\n",
    "solution.tolist()"
   ]
  },
  {
   "cell_type": "code",
   "execution_count": null,
   "id": "56bfa6aa",
   "metadata": {},
   "outputs": [],
   "source": []
  }
 ],
 "metadata": {
  "kernelspec": {
   "display_name": "env",
   "language": "python",
   "name": "python3"
  },
  "language_info": {
   "codemirror_mode": {
    "name": "ipython",
    "version": 3
   },
   "file_extension": ".py",
   "mimetype": "text/x-python",
   "name": "python",
   "nbconvert_exporter": "python",
   "pygments_lexer": "ipython3",
   "version": "3.10.0"
  }
 },
 "nbformat": 4,
 "nbformat_minor": 5
}
