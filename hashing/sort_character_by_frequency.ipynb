{
 "cells": [
  {
   "cell_type": "code",
   "execution_count": 147,
   "id": "d1b492a6",
   "metadata": {},
   "outputs": [],
   "source": [
    "class Solution:\n",
    "    def frequencySort(self, s: str) -> str:\n",
    "        hash_map = {}\n",
    "        for i in s:\n",
    "            if i not in hash_map:\n",
    "                hash_map[i]=1\n",
    "            else:\n",
    "                hash_map[i]+=1\n",
    "\n",
    "\n",
    "        hash_map_sorted = sorted(hash_map.items(), key=lambda kv: (-kv[1], kv[0]))\n",
    "        return [i[0] for i in hash_map_sorted]\n"
   ]
  },
  {
   "cell_type": "code",
   "execution_count": 148,
   "id": "be560e4e",
   "metadata": {},
   "outputs": [],
   "source": [
    "s = \"tree\""
   ]
  },
  {
   "cell_type": "code",
   "execution_count": 149,
   "id": "5d742c0d",
   "metadata": {},
   "outputs": [
    {
     "data": {
      "text/plain": [
       "['e', 'r', 't']"
      ]
     },
     "execution_count": 149,
     "metadata": {},
     "output_type": "execute_result"
    }
   ],
   "source": [
    "s1 = Solution()\n",
    "s1.frequencySort(s)"
   ]
  },
  {
   "cell_type": "code",
   "execution_count": 150,
   "id": "8adad2ba",
   "metadata": {},
   "outputs": [
    {
     "data": {
      "text/plain": [
       "[('e', 2), ('r', 1), ('t', 1)]"
      ]
     },
     "execution_count": 150,
     "metadata": {},
     "output_type": "execute_result"
    }
   ],
   "source": [
    "ans.sort()\n",
    "ans"
   ]
  },
  {
   "cell_type": "code",
   "execution_count": 151,
   "id": "9a989c6f",
   "metadata": {},
   "outputs": [
    {
     "data": {
      "text/plain": [
       "['a', 'j', 'r']"
      ]
     },
     "execution_count": 151,
     "metadata": {},
     "output_type": "execute_result"
    }
   ],
   "source": [
    "s = \"raaaajj\"\n",
    "s1.frequencySort(s)"
   ]
  },
  {
   "cell_type": "code",
   "execution_count": 152,
   "id": "d4aeb4c2",
   "metadata": {},
   "outputs": [
    {
     "data": {
      "text/plain": [
       "['a', 'b', 'c', 'd']"
      ]
     },
     "execution_count": 152,
     "metadata": {},
     "output_type": "execute_result"
    }
   ],
   "source": [
    "s = \"bbccddaaa\"\n",
    "s1.frequencySort(s)"
   ]
  },
  {
   "cell_type": "code",
   "execution_count": 153,
   "id": "ae4c5559",
   "metadata": {},
   "outputs": [
    {
     "data": {
      "text/plain": [
       "['a', 'c', 'b']"
      ]
     },
     "execution_count": 153,
     "metadata": {},
     "output_type": "execute_result"
    }
   ],
   "source": [
    "s = \"cccbbaaaa\"\n",
    "s1.frequencySort(s)"
   ]
  },
  {
   "cell_type": "code",
   "execution_count": null,
   "id": "892ba141",
   "metadata": {},
   "outputs": [],
   "source": []
  },
  {
   "cell_type": "code",
   "execution_count": null,
   "id": "732006d1",
   "metadata": {},
   "outputs": [],
   "source": []
  },
  {
   "cell_type": "code",
   "execution_count": null,
   "id": "42bbe4e1",
   "metadata": {},
   "outputs": [],
   "source": []
  }
 ],
 "metadata": {
  "kernelspec": {
   "display_name": "env",
   "language": "python",
   "name": "python3"
  },
  "language_info": {
   "codemirror_mode": {
    "name": "ipython",
    "version": 3
   },
   "file_extension": ".py",
   "mimetype": "text/x-python",
   "name": "python",
   "nbconvert_exporter": "python",
   "pygments_lexer": "ipython3",
   "version": "3.10.0"
  }
 },
 "nbformat": 4,
 "nbformat_minor": 5
}
