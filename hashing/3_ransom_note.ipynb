{
 "cells": [
  {
   "cell_type": "markdown",
   "id": "f434673c",
   "metadata": {},
   "source": [
    "Leetcode : https://leetcode.com/problems/ransom-note/description/"
   ]
  },
  {
   "cell_type": "markdown",
   "id": "1745cf8d",
   "metadata": {},
   "source": [
    "- Intution \n",
    "\n",
    "1. Create hash map for 2 strings\n"
   ]
  },
  {
   "cell_type": "code",
   "execution_count": 92,
   "id": "fda01233",
   "metadata": {},
   "outputs": [],
   "source": [
    "ransomNote =\"bg\"\n",
    "magazine = \"efjbdfbdgfjhhaiigfhbaejahgfbbgbjagbddfgdiaigdadhcfcj\""
   ]
  },
  {
   "cell_type": "code",
   "execution_count": 93,
   "id": "e1239825",
   "metadata": {},
   "outputs": [],
   "source": [
    "ransomNote = \"a\"\n",
    "magazine = \"b\""
   ]
  },
  {
   "cell_type": "code",
   "execution_count": 94,
   "id": "e34f9601",
   "metadata": {},
   "outputs": [],
   "source": [
    "# ransomNote = \"aa\"\n",
    "# magazine = \"aab\""
   ]
  },
  {
   "cell_type": "code",
   "execution_count": 95,
   "id": "00430c9c",
   "metadata": {},
   "outputs": [
    {
     "name": "stdout",
     "output_type": "stream",
     "text": [
      "1 0\n"
     ]
    }
   ],
   "source": [
    "for i in magazine:\n",
    "    print(magazine.count(i),ransomNote.count(i))\n",
    "    # if magazine.count(i) == ransomNote.count(i):\n",
    "    #     print()"
   ]
  },
  {
   "cell_type": "code",
   "execution_count": null,
   "id": "f0eb1b15",
   "metadata": {},
   "outputs": [],
   "source": []
  },
  {
   "cell_type": "code",
   "execution_count": 96,
   "id": "63993f13",
   "metadata": {},
   "outputs": [],
   "source": [
    "ransomNote = \"aa\"\n",
    "magazine = \"ab\""
   ]
  },
  {
   "cell_type": "code",
   "execution_count": 97,
   "id": "ebdf016a",
   "metadata": {},
   "outputs": [],
   "source": [
    "# ransomNote = \"aa\"\n",
    "# magazine = \"aab\""
   ]
  },
  {
   "cell_type": "code",
   "execution_count": 98,
   "id": "eb895fb9",
   "metadata": {},
   "outputs": [],
   "source": [
    "def create_hash_map(s):\n",
    "    string_hash_map = dict()\n",
    "\n",
    "    for i in s:\n",
    "        if i not in string_hash_map:\n",
    "            string_hash_map[i] =1\n",
    "        else:\n",
    "            string_hash_map[i] +=1\n",
    "            \n",
    "    return string_hash_map\n",
    "\n",
    "ransom = create_hash_map(ransomNote)\n",
    "magazine_ = create_hash_map(magazine)"
   ]
  },
  {
   "cell_type": "code",
   "execution_count": 99,
   "id": "ba25d740",
   "metadata": {},
   "outputs": [
    {
     "data": {
      "text/plain": [
       "(1, 2)"
      ]
     },
     "execution_count": 99,
     "metadata": {},
     "output_type": "execute_result"
    }
   ],
   "source": [
    "len(ransom),len(magazine_)"
   ]
  },
  {
   "cell_type": "code",
   "execution_count": 100,
   "id": "9c974b0e",
   "metadata": {},
   "outputs": [
    {
     "data": {
      "text/plain": [
       "(dict_keys(['a']), dict_keys(['a', 'b']))"
      ]
     },
     "execution_count": 100,
     "metadata": {},
     "output_type": "execute_result"
    }
   ],
   "source": [
    "ransom.keys(),magazine_.keys()"
   ]
  },
  {
   "cell_type": "code",
   "execution_count": 101,
   "id": "b993588c",
   "metadata": {},
   "outputs": [],
   "source": [
    "ransom_text = \"\".join(ransom.keys())"
   ]
  },
  {
   "cell_type": "code",
   "execution_count": 102,
   "id": "4f5e0daa",
   "metadata": {},
   "outputs": [
    {
     "data": {
      "text/plain": [
       "True"
      ]
     },
     "execution_count": 102,
     "metadata": {},
     "output_type": "execute_result"
    }
   ],
   "source": [
    "ransom_text in list(magazine_.keys())"
   ]
  },
  {
   "cell_type": "code",
   "execution_count": 103,
   "id": "9169a387",
   "metadata": {},
   "outputs": [
    {
     "data": {
      "text/plain": [
       "False"
      ]
     },
     "execution_count": 103,
     "metadata": {},
     "output_type": "execute_result"
    }
   ],
   "source": [
    "ransom.keys() == magazine_.keys()"
   ]
  },
  {
   "cell_type": "code",
   "execution_count": null,
   "id": "107c73a6",
   "metadata": {},
   "outputs": [],
   "source": []
  },
  {
   "cell_type": "code",
   "execution_count": null,
   "id": "81c1e0e8",
   "metadata": {},
   "outputs": [],
   "source": []
  },
  {
   "cell_type": "code",
   "execution_count": null,
   "id": "371d31d2",
   "metadata": {},
   "outputs": [],
   "source": []
  },
  {
   "cell_type": "code",
   "execution_count": 104,
   "id": "cb38a72c",
   "metadata": {},
   "outputs": [],
   "source": [
    "class Solution:\n",
    "    def canConstruct(self, ransomNote: str, magazine: str) -> bool:\n",
    "        def create_hash_map(s):\n",
    "            string_hash_map = dict()\n",
    "\n",
    "            for i in s:\n",
    "                if i not in string_hash_map:\n",
    "                    string_hash_map[i] =1\n",
    "                else:\n",
    "                    string_hash_map[i] +=1\n",
    "                    \n",
    "            return string_hash_map\n",
    "\n",
    "        def check_ransom_in_magazine(ransom,magazine_):\n",
    "            for key,value in ransom.items():\n",
    "                if not value == magazine_.get(key):\n",
    "                    return False\n",
    "                    break\n",
    "            return True\n",
    "\n",
    "        if len(ransomNote) == len(magazine) == 1:\n",
    "            if ransomNote != magazine:\n",
    "                return False\n",
    "        else:            \n",
    "            ransom = create_hash_map(ransomNote)\n",
    "            magazine_ = create_hash_map(magazine)\n",
    "            # ransom_text = \"\".join(ransom.keys())\n",
    "            return check_ransom_in_magazine(ransom,magazine_)\n"
   ]
  }
 ],
 "metadata": {
  "kernelspec": {
   "display_name": "env",
   "language": "python",
   "name": "python3"
  },
  "language_info": {
   "codemirror_mode": {
    "name": "ipython",
    "version": 3
   },
   "file_extension": ".py",
   "mimetype": "text/x-python",
   "name": "python",
   "nbconvert_exporter": "python",
   "pygments_lexer": "ipython3",
   "version": "3.10.0"
  }
 },
 "nbformat": 4,
 "nbformat_minor": 5
}
