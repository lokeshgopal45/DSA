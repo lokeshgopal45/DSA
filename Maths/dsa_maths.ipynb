{
 "cells": [
  {
   "cell_type": "markdown",
   "id": "c3bea0af",
   "metadata": {},
   "source": [
    "##### 1. Count all Digits of a Number"
   ]
  },
  {
   "cell_type": "code",
   "execution_count": 37,
   "id": "48832ab3",
   "metadata": {},
   "outputs": [
    {
     "ename": "ValueError",
     "evalue": "invalid literal for int() with base 10: ''",
     "output_type": "error",
     "traceback": [
      "\u001b[0;31m---------------------------------------------------------------------------\u001b[0m",
      "\u001b[0;31mValueError\u001b[0m                                Traceback (most recent call last)",
      "Cell \u001b[0;32mIn[37], line 3\u001b[0m\n\u001b[1;32m      1\u001b[0m \u001b[38;5;66;03m# 1st way using inbuilt in method, but not optimised (TC)\u001b[39;00m\n\u001b[0;32m----> 3\u001b[0m n \u001b[38;5;241m=\u001b[39m \u001b[38;5;28;43mint\u001b[39;49m\u001b[43m(\u001b[49m\u001b[38;5;28;43minput\u001b[39;49m\u001b[43m(\u001b[49m\u001b[38;5;124;43m'\u001b[39;49m\u001b[38;5;124;43mEnter the input Number\u001b[39;49m\u001b[38;5;124;43m'\u001b[39;49m\u001b[43m)\u001b[49m\u001b[43m)\u001b[49m\n\u001b[1;32m      4\u001b[0m \u001b[38;5;28mlen\u001b[39m(\u001b[38;5;28mstr\u001b[39m(n))\n",
      "\u001b[0;31mValueError\u001b[0m: invalid literal for int() with base 10: ''"
     ]
    }
   ],
   "source": [
    "# 1st way using inbuilt in method, but not optimised (TC)\n",
    "\n",
    "n = int(input('Enter the input Number'))\n",
    "len(str(n))"
   ]
  },
  {
   "cell_type": "markdown",
   "id": "5cd48a73",
   "metadata": {},
   "source": [
    "**Time & Space Analysis**\n",
    "\n",
    "- TC : O(n logn) we are finding len (count) so logn(digits)+1\n",
    "- SC : O(n logn) We are replacing it so whatever the number it will become SC"
   ]
  },
  {
   "cell_type": "code",
   "execution_count": null,
   "id": "86da46f6",
   "metadata": {},
   "outputs": [],
   "source": [
    "# 2nd way is using counter via while \n",
    "cnt = 0\n",
    "while n>0: \n",
    "    n = n//10 # using floor division to get last number and reducing number \n",
    "    cnt += 1 # Incrementing the cnt \n",
    "\n",
    "cnt"
   ]
  },
  {
   "cell_type": "markdown",
   "id": "5f2548b5",
   "metadata": {},
   "source": [
    "**Time & Space Analysis**\n",
    "\n",
    "- TC : O(n logn) we are using while + diving the number by 10 so log \n",
    "- SC : O(1) We are cnt variable but it won't grow exponetially even for large numbers"
   ]
  },
  {
   "cell_type": "code",
   "execution_count": null,
   "id": "3ffa1c80",
   "metadata": {},
   "outputs": [],
   "source": [
    "# 3rd way is using log \n",
    "import math \n",
    "int(math.log10(n))+1"
   ]
  },
  {
   "cell_type": "markdown",
   "id": "e550f21c",
   "metadata": {},
   "source": [
    "**Time & Space Analysis**\n",
    "\n",
    "- TC : O(1) It is memory call \n",
    "- SC : O(1) python is storing given number no exponential growing "
   ]
  },
  {
   "cell_type": "markdown",
   "id": "ec77616f",
   "metadata": {},
   "source": [
    "### 2. Count number of odd digits in a number"
   ]
  },
  {
   "cell_type": "code",
   "execution_count": null,
   "id": "46826ee6",
   "metadata": {},
   "outputs": [],
   "source": [
    "# 1st way EASY\n",
    "# n = int(input('Enter the input Number'))\n",
    "odd_cnt = 0\n",
    "for i in str(n):\n",
    "    if int(i)%2==1:\n",
    "        odd_cnt+=1\n",
    "\n",
    "odd_cnt"
   ]
  },
  {
   "cell_type": "code",
   "execution_count": null,
   "id": "ad81e614",
   "metadata": {},
   "outputs": [],
   "source": [
    "n = int(input())\n",
    "\n",
    "odd_cnt = 0\n",
    "while n>0:\n",
    "    rem = n%10\n",
    "    n = n//10\n",
    "\n",
    "    if rem%2==1:\n",
    "        odd_cnt +=1\n",
    "odd_cnt"
   ]
  },
  {
   "cell_type": "markdown",
   "id": "97962862",
   "metadata": {},
   "source": [
    "**Time & Space Analysis**\n",
    "\n",
    "- TC : O(nlogn) we are using while loop\n",
    "- SC : O(1) python is storing given number no exponential growing "
   ]
  },
  {
   "cell_type": "markdown",
   "id": "8615a329",
   "metadata": {},
   "source": [
    "### 3. Reverse Number"
   ]
  },
  {
   "cell_type": "code",
   "execution_count": null,
   "id": "ad9bb328",
   "metadata": {},
   "outputs": [],
   "source": [
    "n = int(input('Enter the input Number'))"
   ]
  },
  {
   "cell_type": "code",
   "execution_count": null,
   "id": "2b602437",
   "metadata": {},
   "outputs": [],
   "source": [
    "# 1st way optimal I guess\n",
    "if str(n)[0]=='-':\n",
    "    n = int(str(n)[1:])\n",
    "    ans = str(n)[::-1]\n",
    "    print('-'+ans)\n",
    "else:\n",
    "    print(int(str(n)[::-1]))"
   ]
  },
  {
   "cell_type": "code",
   "execution_count": null,
   "id": "63beb8f1",
   "metadata": {},
   "outputs": [],
   "source": [
    "# 2nd WAY using math \n",
    "n = int(input('Enter your number'))\n",
    "rev_number = 0 \n",
    "while n>0:\n",
    "    rem = n%10 # remainder \n",
    "    n = n//10 # reduce number using floor division \n",
    "    \n",
    "    rev_number = rev_number*10 + rem # for place value of each number\n",
    "    \n",
    "rev_number"
   ]
  },
  {
   "cell_type": "markdown",
   "id": "81f7f1d9",
   "metadata": {},
   "source": [
    "**Time & Space Analysis**\n",
    "\n",
    "- TC : O(nlogn) we are using while loop\n",
    "- SC : O(1) python is storing given number no exponential growing "
   ]
  },
  {
   "cell_type": "markdown",
   "id": "f0cffabe",
   "metadata": {},
   "source": [
    "### 4. Largest digit in a number"
   ]
  },
  {
   "cell_type": "markdown",
   "id": "704ecc3e",
   "metadata": {},
   "source": [
    "- Approach \n",
    "    1. Find the last digit\n",
    "    2. Traverse through those numbers and change accordingly "
   ]
  },
  {
   "cell_type": "code",
   "execution_count": null,
   "id": "a9e82657",
   "metadata": {},
   "outputs": [],
   "source": [
    "def find_largest_digit(number):\n",
    "    \n",
    "    last_digit = number%10\n",
    "    \n",
    "    while number>0:\n",
    "        \n",
    "        remainder = number%10\n",
    "        number = number//10\n",
    "\n",
    "        if remainder > last_digit:\n",
    "            last_digit = remainder\n",
    "        \n",
    "        \n",
    "    return last_digit\n",
    "    "
   ]
  },
  {
   "cell_type": "code",
   "execution_count": null,
   "id": "dc2f4349",
   "metadata": {},
   "outputs": [],
   "source": [
    "find_largest_digit(103717)"
   ]
  },
  {
   "cell_type": "markdown",
   "id": "08df7798",
   "metadata": {},
   "source": [
    "**Time & Space Analysis**\n",
    "- TC : O(nlogn) we are using while loop\n",
    "- SC : O(1) python is storing given number no exponential growing "
   ]
  },
  {
   "cell_type": "markdown",
   "id": "db3c9577",
   "metadata": {},
   "source": [
    "### 5. Divisors "
   ]
  },
  {
   "cell_type": "markdown",
   "id": "c5c0f0ad",
   "metadata": {},
   "source": [
    "- Approach \n",
    "    1. We can find it by using the normal divison (not optimal)\n",
    "    2. we can use optimal iteration and counter division "
   ]
  },
  {
   "cell_type": "code",
   "execution_count": null,
   "id": "d629fb43",
   "metadata": {},
   "outputs": [],
   "source": [
    "# Approach 1 \n",
    "\n",
    "def divisors1(number):\n",
    "    \n",
    "    divisors_list = []\n",
    "    \n",
    "    for i in range(1,number+1):\n",
    "        if number%i == 0:\n",
    "            divisors_list.append(i)\n",
    "    \n",
    "    return divisors_list"
   ]
  },
  {
   "cell_type": "code",
   "execution_count": null,
   "id": "0afefcfe",
   "metadata": {},
   "outputs": [],
   "source": [
    "divisors1(6)"
   ]
  },
  {
   "cell_type": "markdown",
   "id": "6d8c7e4a",
   "metadata": {},
   "source": [
    "**Time & Space Analysis**\n",
    "\n",
    "- TC : O(n) we are using for loop without any extra optimization\n",
    "- SC : O(n) we might have so many divisors for composite numbers (60)"
   ]
  },
  {
   "cell_type": "code",
   "execution_count": null,
   "id": "97bead07",
   "metadata": {},
   "outputs": [],
   "source": [
    "# Approach 2\n",
    "\n",
    "def divisors2(number):\n",
    "    \n",
    "    divisors_list = []\n",
    "    \n",
    "    for i in range(1,int(number**0.5)+1):\n",
    "        if number%i == 0:\n",
    "            \n",
    "            counter_div = int(number/i)\n",
    "            divisors_list.append(i)\n",
    "            divisors_list.append(counter_div)\n",
    "        \n",
    "    return divisors_list"
   ]
  },
  {
   "cell_type": "code",
   "execution_count": null,
   "id": "181bc8cc",
   "metadata": {},
   "outputs": [],
   "source": [
    "divisors2(6)"
   ]
  },
  {
   "cell_type": "markdown",
   "id": "3382593b",
   "metadata": {},
   "source": [
    "**Time & Space Analysis**\n",
    "- TC : O(n**0.5) we are using for loop but with upto half iterations\n",
    "- SC : O(n) we might have so many divisors for composite numbers (60)"
   ]
  },
  {
   "cell_type": "markdown",
   "id": "3df636d4",
   "metadata": {},
   "source": [
    "### 6. Armstrong Number "
   ]
  },
  {
   "cell_type": "code",
   "execution_count": null,
   "id": "700930b3",
   "metadata": {},
   "outputs": [
    {
     "data": {
      "text/plain": [
       "3"
      ]
     },
     "execution_count": 8,
     "metadata": {},
     "output_type": "execute_result"
    }
   ],
   "source": [
    "int(math.log10(153))+1"
   ]
  },
  {
   "cell_type": "code",
   "execution_count": null,
   "id": "e364063e",
   "metadata": {},
   "outputs": [],
   "source": [
    "class Solution:\n",
    "    def isArmstrong(self, n):\n",
    "        sum_ = 0\n",
    "        cnt = len(str(n)) # find the len using string \n",
    "        \n",
    "        given_number = n\n",
    "        while n>0:    \n",
    "            rem = n%10\n",
    "            sum_ += pow(rem,cnt)    \n",
    "            n = n//10\n",
    "        \n",
    "        return sum_ == given_number"
   ]
  },
  {
   "cell_type": "markdown",
   "id": "c9b9f0cb",
   "metadata": {},
   "source": [
    "**Time & Space Analysis**\n",
    "\n",
    "- TC : O(log n ) we are using while loop \n",
    "- SC : O(1) not using any extra growing variables wrt time"
   ]
  },
  {
   "cell_type": "markdown",
   "id": "ad583f51",
   "metadata": {},
   "source": [
    "### 7. Perfect Number "
   ]
  },
  {
   "cell_type": "code",
   "execution_count": null,
   "id": "57634419",
   "metadata": {},
   "outputs": [],
   "source": [
    "def perfect1(n):\n",
    "    \n",
    "    sum_ = 0\n",
    "    for i in range(1,n):\n",
    "        if n%i==0:\n",
    "            sum_+=i\n",
    "    \n",
    "    return sum_ == n"
   ]
  },
  {
   "cell_type": "markdown",
   "id": "9cb1fb9d",
   "metadata": {},
   "source": [
    "**Time & Space Analysis**\n",
    "\n",
    "- TC : O(n) we are using for loop without any \n",
    "- SC : O(1) not using any extra growing variables wrt time"
   ]
  },
  {
   "cell_type": "code",
   "execution_count": null,
   "id": "e940aea9",
   "metadata": {},
   "outputs": [
    {
     "data": {
      "text/plain": [
       "True"
      ]
     },
     "execution_count": 30,
     "metadata": {},
     "output_type": "execute_result"
    }
   ],
   "source": [
    "perfect1(6)"
   ]
  },
  {
   "cell_type": "code",
   "execution_count": 42,
   "id": "a5ba5c84",
   "metadata": {},
   "outputs": [],
   "source": [
    "def perfect2(n):\n",
    "    \n",
    "    sum_ = 0\n",
    "    for i in range(1,int(n**0.5)): # half way loop\n",
    "        if n%i==0: # basic divisor check \n",
    "            sum_+=i\n",
    "            # Add the counterpart divisor if it's \n",
    "            # different from i and if it is not n itself\n",
    "            if n // i != n and i != n // i:\n",
    "                sum_ = sum_ + (n // i)\n",
    "           \n",
    "    \n",
    "    return sum_ == n"
   ]
  },
  {
   "cell_type": "code",
   "execution_count": 43,
   "id": "66457dd2",
   "metadata": {},
   "outputs": [
    {
     "data": {
      "text/plain": [
       "False"
      ]
     },
     "execution_count": 43,
     "metadata": {},
     "output_type": "execute_result"
    }
   ],
   "source": [
    "perfect2(6)"
   ]
  },
  {
   "cell_type": "code",
   "execution_count": null,
   "id": "b100bcca",
   "metadata": {},
   "outputs": [],
   "source": []
  }
 ],
 "metadata": {
  "kernelspec": {
   "display_name": "env",
   "language": "python",
   "name": "python3"
  },
  "language_info": {
   "codemirror_mode": {
    "name": "ipython",
    "version": 3
   },
   "file_extension": ".py",
   "mimetype": "text/x-python",
   "name": "python",
   "nbconvert_exporter": "python",
   "pygments_lexer": "ipython3",
   "version": "3.10.0"
  }
 },
 "nbformat": 4,
 "nbformat_minor": 5
}
