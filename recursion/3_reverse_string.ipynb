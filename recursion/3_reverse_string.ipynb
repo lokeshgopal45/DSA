{
 "cells": [
  {
   "cell_type": "code",
   "execution_count": 7,
   "id": "a826bf6c",
   "metadata": {},
   "outputs": [
    {
     "data": {
      "text/plain": [
       "['h', 'e', 'l', 'l', 'o']"
      ]
     },
     "execution_count": 7,
     "metadata": {},
     "output_type": "execute_result"
    }
   ],
   "source": [
    "s = [\"h\", \"e\", \"l\", \"l\", \"o\"]\n",
    "s"
   ]
  },
  {
   "cell_type": "code",
   "execution_count": null,
   "id": "d360ce4f",
   "metadata": {},
   "outputs": [],
   "source": [
    "left = 0\n",
    "right = len(s)-1\n",
    "while left <=right:\n",
    "    s[right],s[left] = s[left],s[right]\n",
    "    left+=1\n",
    "    right-=1\n"
   ]
  },
  {
   "cell_type": "code",
   "execution_count": 17,
   "id": "658cace1",
   "metadata": {},
   "outputs": [
    {
     "data": {
      "text/plain": [
       "['o', 'l', 'l', 'e', 'h']"
      ]
     },
     "execution_count": 17,
     "metadata": {},
     "output_type": "execute_result"
    }
   ],
   "source": [
    "s"
   ]
  },
  {
   "cell_type": "code",
   "execution_count": null,
   "id": "56468fa6",
   "metadata": {},
   "outputs": [],
   "source": []
  }
 ],
 "metadata": {
  "kernelspec": {
   "display_name": "env",
   "language": "python",
   "name": "python3"
  },
  "language_info": {
   "codemirror_mode": {
    "name": "ipython",
    "version": 3
   },
   "file_extension": ".py",
   "mimetype": "text/x-python",
   "name": "python",
   "nbconvert_exporter": "python",
   "pygments_lexer": "ipython3",
   "version": "3.10.0"
  }
 },
 "nbformat": 4,
 "nbformat_minor": 5
}
