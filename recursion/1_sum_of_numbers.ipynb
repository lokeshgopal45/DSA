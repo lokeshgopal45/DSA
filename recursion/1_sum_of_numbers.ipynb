{
 "cells": [
  {
   "cell_type": "code",
   "execution_count": null,
   "id": "bdb42f48",
   "metadata": {},
   "outputs": [],
   "source": [
    "# To visualize this specific case:\n",
    "sum_ = 0\n",
    "def head_recursion_demo(n):  # n = 1\n",
    "    if n > 0:  # 1 > 0 is True\n",
    "        head_recursion_demo(0)  # First recurse down to base case\n",
    "        global sum_\n",
    "        sum_ += n  # After returning from recursion, adds 1 to sum_\n"
   ]
  },
  {
   "cell_type": "code",
   "execution_count": 6,
   "id": "e2ba1dfb",
   "metadata": {},
   "outputs": [
    {
     "data": {
      "text/plain": [
       "55"
      ]
     },
     "execution_count": 6,
     "metadata": {},
     "output_type": "execute_result"
    }
   ],
   "source": [
    "sum_"
   ]
  },
  {
   "cell_type": "code",
   "execution_count": null,
   "id": "8ab5b00d",
   "metadata": {},
   "outputs": [],
   "source": []
  }
 ],
 "metadata": {
  "kernelspec": {
   "display_name": "env",
   "language": "python",
   "name": "python3"
  },
  "language_info": {
   "codemirror_mode": {
    "name": "ipython",
    "version": 3
   },
   "file_extension": ".py",
   "mimetype": "text/x-python",
   "name": "python",
   "nbconvert_exporter": "python",
   "pygments_lexer": "ipython3",
   "version": "3.10.0"
  }
 },
 "nbformat": 4,
 "nbformat_minor": 5
}
