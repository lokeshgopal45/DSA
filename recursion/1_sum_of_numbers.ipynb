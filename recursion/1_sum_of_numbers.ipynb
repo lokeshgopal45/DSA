{
 "cells": [
  {
   "cell_type": "code",
   "execution_count": null,
   "id": "8ab5b00d",
   "metadata": {},
   "outputs": [],
   "source": [
    "class Solution:\n",
    "    def NnumbersSum(self, N):\n",
    "\n",
    "        # # Mathematical way T(1), S(1) almost constant \n",
    "        # return int((N * (N+1))/2)\n",
    "\n",
    "        # # Convential way T(n), S(n)\n",
    "        # return sum([i for i in range(1,N+1)])\n",
    "\n",
    "        # Recursive way \n",
    "        sum_ = 0  # Initialize sum_ variable\n",
    "\n",
    "        def individual_sum(i, N):\n",
    "            nonlocal sum_  # Declare sum_ as nonlocal to modify the outer variable\n",
    "            # Base condition\n",
    "            if i > N:\n",
    "                return\n",
    "            else:\n",
    "                sum_ += i\n",
    "                individual_sum(i + 1, N)\n",
    "\n",
    "        individual_sum(1, N)  # Start recursion from 1\n",
    "        return sum_"
   ]
  },
  {
   "cell_type": "code",
   "execution_count": null,
   "id": "00a5da40",
   "metadata": {},
   "outputs": [],
   "source": []
  }
 ],
 "metadata": {
  "kernelspec": {
   "display_name": "env",
   "language": "python",
   "name": "python3"
  },
  "language_info": {
   "codemirror_mode": {
    "name": "ipython",
    "version": 3
   },
   "file_extension": ".py",
   "mimetype": "text/x-python",
   "name": "python",
   "nbconvert_exporter": "python",
   "pygments_lexer": "ipython3",
   "version": "3.10.0"
  }
 },
 "nbformat": 4,
 "nbformat_minor": 5
}
